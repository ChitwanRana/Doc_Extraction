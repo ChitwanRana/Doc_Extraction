{
 "cells": [
  {
   "cell_type": "code",
   "execution_count": null,
   "id": "d14a67e6",
   "metadata": {},
   "outputs": [
    {
     "name": "stdout",
     "output_type": "stream",
     "text": [
      "Headers: 0 | Titles: 19 | Tables: 1 | Images: 11\n"
     ]
    }
   ],
   "source": [
    "from unstructured.partition.pdf import partition_pdf\n",
    "\n",
    "\n",
    "raw_pdf_elements = partition_pdf(\n",
    "    filename=\"uploaded_file/Waterfootprint_Food.pdf\",\n",
    "    strategy=\"hi_res\",\n",
    "    extract_images_in_pdf=True,\n",
    "    extract_image_block_types=[\"Image\", \"Table\"],\n",
    "    extract_image_block_to_payload=False,\n",
    "    extract_image_block_output_dir=\"extracted_data\",\n",
    ")\n",
    "\n",
    "# Categorizing elements\n",
    "Header, Footer, Title, NarrativeText, Text, ListItem, img, tab = [], [], [], [], [], [], [], []\n",
    "\n",
    "for element in raw_pdf_elements:\n",
    "    el_type = str(type(element))\n",
    "    el_str = str(element)\n",
    "    if \"Header\" in el_type:\n",
    "        Header.append(el_str)\n",
    "    elif \"Footer\" in el_type:\n",
    "        Footer.append(el_str)\n",
    "    elif \"Title\" in el_type:\n",
    "        Title.append(el_str)\n",
    "    elif \"NarrativeText\" in el_type:\n",
    "        NarrativeText.append(el_str)\n",
    "    elif \"Text\" in el_type:\n",
    "        Text.append(el_str)\n",
    "    elif \"ListItem\" in el_type:\n",
    "        ListItem.append(el_str)\n",
    "    elif \"Image\" in el_type:\n",
    "        img.append(el_str)\n",
    "    elif \"Table\" in el_type:\n",
    "        tab.append(el_str)\n",
    "\n",
    "# Print counts\n",
    "print(f\"Headers: {len(Header)} | Titles: {len(Title)} | Tables: {len(tab)} | Images: {len(img)}\")\n"
   ]
  },
  {
   "cell_type": "code",
   "execution_count": 6,
   "id": "5d5bc21b",
   "metadata": {},
   "outputs": [
    {
     "data": {
      "text/plain": [
       "'Food item Unit Global average water footprint (litres) Apple or pear 1 kg 700 Banana 1 kg 860 Beef 1 kg 15,500 Beer (from barley) 1 glass of 250 ml 75 Bread (from wheat) 1 kg 1,300 Cabbage 1 kg 200 Cheese 1 kg 5,000 Chicken 1 kg 3,900 Chocolate 1 kg 24,000 Coffee 1 cup of 125 ml 140 Cucumber or pumpkin 1 kg 240 Dates 1 kg 3,000 Groundnuts (in shell) 1 kg 3,100 Lettuce 1 kg 130 Maize 1 kg 900 Mango 1 kg 1,600 Milk 1 glass of 250 ml 250 Olives 1 kg 4,400 Orange 1 kg 460 Peach or nectarine 1 kg 1,200 Pork 1 kg 4,800 Potato 1 kg 250 Rice 1 kg 3,400 Sugar (from sugar cane) 1 kg 1,500 Tea 1 cup of 250 ml 30 Tomato 1 kg 180 Wine 1 glass of 125 ml 120'"
      ]
     },
     "execution_count": 6,
     "metadata": {},
     "output_type": "execute_result"
    }
   ],
   "source": [
    "tab[0]"
   ]
  },
  {
   "cell_type": "code",
   "execution_count": 7,
   "id": "192145e1",
   "metadata": {},
   "outputs": [
    {
     "data": {
      "text/plain": [
       "'Internal  water   footprint '"
      ]
     },
     "execution_count": 7,
     "metadata": {},
     "output_type": "execute_result"
    }
   ],
   "source": [
    "img[5]"
   ]
  }
 ],
 "metadata": {
  "kernelspec": {
   "display_name": "myenv",
   "language": "python",
   "name": "python3"
  },
  "language_info": {
   "codemirror_mode": {
    "name": "ipython",
    "version": 3
   },
   "file_extension": ".py",
   "mimetype": "text/x-python",
   "name": "python",
   "nbconvert_exporter": "python",
   "pygments_lexer": "ipython3",
   "version": "3.12.2"
  }
 },
 "nbformat": 4,
 "nbformat_minor": 5
}
